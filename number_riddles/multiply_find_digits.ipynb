{
 "cells": [
  {
   "cell_type": "code",
   "execution_count": null,
   "metadata": {},
   "outputs": [],
   "source": [
    "from itertools import combinations, permutations"
   ]
  },
  {
   "cell_type": "code",
   "execution_count": null,
   "metadata": {},
   "outputs": [],
   "source": [
    "avail_numbers = [0, 1, 2, 4, 5, 6, 7, 8]"
   ]
  },
  {
   "cell_type": "code",
   "execution_count": null,
   "metadata": {},
   "outputs": [],
   "source": [
    "for subset in combinations(avail_numbers, 3):\n",
    "    for perm in permutations(subset):\n",
    "        my_num_as_str = str(perm[0]) + str(perm[1]) + \"9\" + str(perm[2])\n",
    "\n",
    "        res = str(3 * int(my_num_as_str))\n",
    "        res = res.zfill(5)\n",
    "        \n",
    "        if {int(val) for val in set(res)} == set.difference(set(avail_numbers), set(perm)):\n",
    "            print(my_num_as_str, \"* 3 =\", res)\n",
    "        "
   ]
  }
 ],
 "metadata": {
  "kernelspec": {
   "display_name": "geocaching_mystery_snippets",
   "language": "python",
   "name": "python3"
  },
  "language_info": {
   "codemirror_mode": {
    "name": "ipython",
    "version": 3
   },
   "file_extension": ".py",
   "mimetype": "text/x-python",
   "name": "python",
   "nbconvert_exporter": "python",
   "pygments_lexer": "ipython3",
   "version": "3.10.11"
  },
  "orig_nbformat": 4
 },
 "nbformat": 4,
 "nbformat_minor": 2
}
