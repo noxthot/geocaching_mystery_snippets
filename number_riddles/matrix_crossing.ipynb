{
 "cells": [
  {
   "cell_type": "code",
   "execution_count": null,
   "metadata": {},
   "outputs": [],
   "source": [
    "import numpy as np"
   ]
  },
  {
   "cell_type": "code",
   "execution_count": null,
   "metadata": {},
   "outputs": [],
   "source": [
    "mat = np.array([[7, 5, 5, 3, 6, 2],\n",
    "                [8, 1, 7, 6, 5, 1],\n",
    "                [5, 8, 4, 3, 4, 5],\n",
    "                [4, 6, 8, 1, 2, 9],\n",
    "                [1, 2, 8, 4, 7, 8],\n",
    "                [6, 5, 3, 7, 4, 5]]\n",
    ")\n",
    "\n",
    "mask = np.array([[1, 0, 1, 0, 1, 1],\n",
    "                 [1, 1, 0, 1, 1, 0],\n",
    "                 [0, 1, 1, 1, 0, 1],\n",
    "                 [1, 1, 1, 0, 1, 0],\n",
    "                 [1, 0, 0, 1, 1, 1],\n",
    "                 [0, 1, 1, 1, 0, 1]]\n",
    ")\n",
    "\n",
    "matmask = np.multiply(mat, mask)\n",
    "\n",
    "print(\"cols: \", np.sum(matmask, axis=0))\n",
    "print(\"rows: \", np.sum(matmask, axis=1))"
   ]
  },
  {
   "cell_type": "code",
   "execution_count": null,
   "metadata": {},
   "outputs": [],
   "source": [
    "mat * (-(mask - 1))"
   ]
  },
  {
   "cell_type": "code",
   "execution_count": null,
   "metadata": {},
   "outputs": [],
   "source": []
  }
 ],
 "metadata": {
  "kernelspec": {
   "display_name": "geocaching_mystery_snippets",
   "language": "python",
   "name": "python3"
  },
  "language_info": {
   "codemirror_mode": {
    "name": "ipython",
    "version": 3
   },
   "file_extension": ".py",
   "mimetype": "text/x-python",
   "name": "python",
   "nbconvert_exporter": "python",
   "pygments_lexer": "ipython3",
   "version": "3.10.11"
  },
  "orig_nbformat": 4
 },
 "nbformat": 4,
 "nbformat_minor": 2
}
