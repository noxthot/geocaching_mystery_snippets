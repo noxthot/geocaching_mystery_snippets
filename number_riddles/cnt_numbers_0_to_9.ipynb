{
 "cells": [
  {
   "cell_type": "code",
   "execution_count": 79,
   "metadata": {},
   "outputs": [],
   "source": [
    "from collections import Counter\n",
    "from simplejson import dumps"
   ]
  },
  {
   "cell_type": "code",
   "execution_count": 80,
   "metadata": {},
   "outputs": [],
   "source": [
    "ls = [[x, 1] for x in range(10)]"
   ]
  },
  {
   "cell_type": "code",
   "execution_count": 81,
   "metadata": {},
   "outputs": [],
   "source": [
    "def cntoccurrences(ls):\n",
    "    cnt = Counter()\n",
    "    \n",
    "    for pair in ls:\n",
    "        for elem in pair:\n",
    "            cnt.update(str(elem))\n",
    "        \n",
    "    return cnt"
   ]
  },
  {
   "cell_type": "code",
   "execution_count": 82,
   "metadata": {},
   "outputs": [],
   "source": [
    "# recursion until fix point (=solution) is found.. hopefully such a solution exists\n",
    "def iterate(ls):\n",
    "    cnt = cntoccurrences(ls)\n",
    "    newls = [[int(key), cnt[key]] for key in cnt]\n",
    "    print(newls)\n",
    "    \n",
    "    if (dumps(ls) == dumps(newls)):\n",
    "        print('Fin')\n",
    "    else:\n",
    "        iterate(newls)"
   ]
  },
  {
   "cell_type": "code",
   "execution_count": 83,
   "metadata": {},
   "outputs": [
    {
     "name": "stdout",
     "output_type": "stream",
     "text": [
      "[[0, 1], [1, 11], [2, 1], [3, 1], [4, 1], [5, 1], [6, 1], [7, 1], [8, 1], [9, 1]]\n",
      "[[0, 1], [1, 12], [2, 1], [3, 1], [4, 1], [5, 1], [6, 1], [7, 1], [8, 1], [9, 1]]\n",
      "[[0, 1], [1, 11], [2, 2], [3, 1], [4, 1], [5, 1], [6, 1], [7, 1], [8, 1], [9, 1]]\n",
      "[[0, 1], [1, 11], [2, 2], [3, 1], [4, 1], [5, 1], [6, 1], [7, 1], [8, 1], [9, 1]]\n",
      "Fin\n"
     ]
    }
   ],
   "source": [
    "iterate(ls)"
   ]
  },
  {
   "cell_type": "code",
   "execution_count": null,
   "metadata": {},
   "outputs": [],
   "source": []
  }
 ],
 "metadata": {
  "kernelspec": {
   "display_name": "Python 3",
   "language": "python",
   "name": "python3"
  },
  "language_info": {
   "codemirror_mode": {
    "name": "ipython",
    "version": 3
   },
   "file_extension": ".py",
   "mimetype": "text/x-python",
   "name": "python",
   "nbconvert_exporter": "python",
   "pygments_lexer": "ipython3",
   "version": "3.7.7"
  }
 },
 "nbformat": 4,
 "nbformat_minor": 2
}
